{
 "cells": [
  {
   "cell_type": "code",
   "execution_count": 2,
   "metadata": {},
   "outputs": [],
   "source": [
    "# Imports\n",
    "import datetime"
   ]
  },
  {
   "cell_type": "code",
   "execution_count": 3,
   "metadata": {},
   "outputs": [],
   "source": [
    "now = datetime.datetime.now()"
   ]
  },
  {
   "cell_type": "code",
   "execution_count": 4,
   "metadata": {},
   "outputs": [
    {
     "name": "stdout",
     "output_type": "stream",
     "text": [
      "2019-01-08 20:30:22.829695\n",
      "<class 'datetime.datetime'>\n"
     ]
    },
    {
     "data": {
      "text/plain": [
       "datetime.datetime(2019, 1, 8, 20, 30, 22, 829695)"
      ]
     },
     "execution_count": 4,
     "metadata": {},
     "output_type": "execute_result"
    }
   ],
   "source": [
    "print(now)\n",
    "print(type(now))\n",
    "now"
   ]
  },
  {
   "cell_type": "code",
   "execution_count": 42,
   "metadata": {},
   "outputs": [
    {
     "name": "stdout",
     "output_type": "stream",
     "text": [
      "2019-01-08 20:30:10.217114\n"
     ]
    }
   ],
   "source": [
    "then = datetime.datetime(2019, 1, 8, 20, 30, 10, 217114)\n",
    "print(then)"
   ]
  },
  {
   "cell_type": "code",
   "execution_count": 43,
   "metadata": {},
   "outputs": [
    {
     "name": "stdout",
     "output_type": "stream",
     "text": [
      "0:00:12.612581\n",
      "<class 'datetime.timedelta'>\n"
     ]
    }
   ],
   "source": [
    "delta = now - then\n",
    "print(delta)\n",
    "print(type(delta))"
   ]
  },
  {
   "cell_type": "code",
   "execution_count": 44,
   "metadata": {},
   "outputs": [
    {
     "name": "stdout",
     "output_type": "stream",
     "text": [
      "0\n",
      "12\n",
      "Time difference is 12 seconds\n"
     ]
    }
   ],
   "source": [
    "print(delta.days)\n",
    "print(delta.seconds)\n",
    "\n",
    "delta_days = delta.days\n",
    "delta_seconds = delta.seconds\n",
    "\n",
    "if delta_days != 0:\n",
    "    time_ago = delta_days\n",
    "    if delta_days == 1:\n",
    "        time_measure = 'day'\n",
    "    else:\n",
    "        time_measure = 'days'\n",
    "else:\n",
    "    if delta_seconds >= 60:\n",
    "        if delta_seconds >= 3600:\n",
    "            temp_time = delta_seconds // 3600\n",
    "            time_ago = int(temp_time)\n",
    "            if time_ago == 1:\n",
    "                time_measure = 'hour'\n",
    "            else:\n",
    "                time_measure = 'hours'\n",
    "        else:\n",
    "            temp_time = delta_seconds // 60\n",
    "            time_ago = int(temp_time)\n",
    "            if time_ago == 1:\n",
    "                time_measure = 'minute'\n",
    "            else:\n",
    "                time_measure = 'minutes'\n",
    "    else:\n",
    "        time_ago = delta_seconds\n",
    "        time_measure = 'seconds'\n",
    "        \n",
    "print('Time difference is ' + str(time_ago) + ' ' + str(time_measure))"
   ]
  },
  {
   "cell_type": "code",
   "execution_count": null,
   "metadata": {},
   "outputs": [],
   "source": []
  }
 ],
 "metadata": {
  "kernelspec": {
   "display_name": "Python 3",
   "language": "python",
   "name": "python3"
  },
  "language_info": {
   "codemirror_mode": {
    "name": "ipython",
    "version": 3
   },
   "file_extension": ".py",
   "mimetype": "text/x-python",
   "name": "python",
   "nbconvert_exporter": "python",
   "pygments_lexer": "ipython3",
   "version": "3.7.1"
  }
 },
 "nbformat": 4,
 "nbformat_minor": 2
}
